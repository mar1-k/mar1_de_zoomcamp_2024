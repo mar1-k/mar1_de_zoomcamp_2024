{
 "cells": [
  {
   "cell_type": "code",
   "execution_count": null,
   "id": "ee53896e",
   "metadata": {},
   "outputs": [],
   "source": [
    "import pyspark\n",
    "from pyspark.sql import SparkSession\n",
    "\n",
    "spark = SparkSession.builder \\\n",
    "    .master(\"local[*]\") \\\n",
    "    .appName('test') \\\n",
    "    .getOrCreate()\n",
    "\n"
   ]
  },
  {
   "cell_type": "code",
   "execution_count": null,
   "id": "ad41da87",
   "metadata": {},
   "outputs": [],
   "source": [
    "!wget https://github.com/DataTalksClub/nyc-tlc-data/releases/download/fhvhv/fhvhv_tripdata_2021-01.csv.gz"
   ]
  },
  {
   "cell_type": "code",
   "execution_count": 1,
   "id": "b6566b01",
   "metadata": {},
   "outputs": [
    {
     "name": "stdout",
     "output_type": "stream",
     "text": [
      " 11908469 fhvhv_tripdata_2021-01.csv\r\n"
     ]
    }
   ],
   "source": [
    "!wc -l fhvhv_tripdata_2021-01.csv"
   ]
  },
  {
   "cell_type": "code",
   "execution_count": 12,
   "id": "d6fa5f0b",
   "metadata": {},
   "outputs": [
    {
     "name": "stderr",
     "output_type": "stream",
     "text": [
      "                                                                                \r"
     ]
    }
   ],
   "source": [
    "#Trying inferSchema from the YT video comments instead of pandas hack.\n",
    "df = spark.read.option(\"header\", \"true\").option(\"inferSchema\", \"true\").csv('fhvhv_tripdata_2021-01.csv')"
   ]
  },
  {
   "cell_type": "code",
   "execution_count": 14,
   "id": "72a6bf67",
   "metadata": {
    "scrolled": false
   },
   "outputs": [
    {
     "data": {
      "text/plain": [
       "StructType([StructField('hvfhs_license_num', StringType(), True), StructField('dispatching_base_num', StringType(), True), StructField('pickup_datetime', TimestampType(), True), StructField('dropoff_datetime', TimestampType(), True), StructField('PULocationID', IntegerType(), True), StructField('DOLocationID', IntegerType(), True), StructField('SR_Flag', IntegerType(), True)])"
      ]
     },
     "execution_count": 14,
     "metadata": {},
     "output_type": "execute_result"
    }
   ],
   "source": [
    "df.schema"
   ]
  },
  {
   "cell_type": "code",
   "execution_count": 17,
   "id": "d6a4b7a5",
   "metadata": {},
   "outputs": [],
   "source": [
    "from pyspark.sql import types\n",
    "\n",
    "schema = types.StructType([\n",
    "    types.StructField('hvfhs_license_num', types.StringType(), True),\n",
    "    types.StructField('dispatching_base_num', types.StringType(), True),\n",
    "    types.StructField('pickup_datetime', types.TimestampType(), True),\n",
    "    types.StructField('dropoff_datetime', types.TimestampType(), True),\n",
    "    types.StructField('PULocationID', types.IntegerType(), True),\n",
    "    types.StructField('DOLocationID', types.IntegerType(), True),\n",
    "    types.StructField('SR_Flag', types.StringType(), True)\n",
    "])"
   ]
  },
  {
   "cell_type": "code",
   "execution_count": 18,
   "id": "d04fb526",
   "metadata": {},
   "outputs": [],
   "source": [
    "df = spark.read.option(\"header\", \"true\").option(\"schema\", schema).csv('fhvhv_tripdata_2021-01.csv')"
   ]
  },
  {
   "cell_type": "code",
   "execution_count": null,
   "id": "006bac18",
   "metadata": {},
   "outputs": [],
   "source": [
    "df = df.repartition(24)\n",
    "df.write.parquet('fhvhv/2021/01')"
   ]
  },
  {
   "cell_type": "code",
   "execution_count": 20,
   "id": "64131cc0",
   "metadata": {},
   "outputs": [],
   "source": [
    "df = spark.read.parquet('fhvhv/2021/01/')"
   ]
  },
  {
   "cell_type": "code",
   "execution_count": 22,
   "id": "60ba714e",
   "metadata": {},
   "outputs": [
    {
     "name": "stdout",
     "output_type": "stream",
     "text": [
      "root\n",
      " |-- hvfhs_license_num: string (nullable = true)\n",
      " |-- dispatching_base_num: string (nullable = true)\n",
      " |-- pickup_datetime: string (nullable = true)\n",
      " |-- dropoff_datetime: string (nullable = true)\n",
      " |-- PULocationID: string (nullable = true)\n",
      " |-- DOLocationID: string (nullable = true)\n",
      " |-- SR_Flag: string (nullable = true)\n",
      "\n"
     ]
    }
   ],
   "source": [
    "df.printSchema()"
   ]
  },
  {
   "cell_type": "code",
   "execution_count": 25,
   "id": "c52cd5c0",
   "metadata": {},
   "outputs": [
    {
     "name": "stdout",
     "output_type": "stream",
     "text": [
      "+-------------------+-------------------+------------+------------+\n",
      "|    pickup_datetime|   dropoff_datetime|PULocationID|DOLocationID|\n",
      "+-------------------+-------------------+------------+------------+\n",
      "|2021-01-01 15:14:32|2021-01-01 15:21:59|          66|          97|\n",
      "|2021-01-01 22:56:30|2021-01-01 23:02:40|         170|         100|\n",
      "|2021-01-01 00:47:14|2021-01-01 00:57:43|         225|         189|\n",
      "|2021-01-02 19:40:27|2021-01-02 19:48:31|          94|          18|\n",
      "|2021-01-01 17:52:38|2021-01-01 17:55:34|         215|         215|\n",
      "|2021-01-02 23:15:31|2021-01-02 23:22:44|          89|          89|\n",
      "|2021-01-02 10:03:21|2021-01-02 10:10:20|         241|         220|\n",
      "|2021-01-01 16:41:22|2021-01-01 16:43:45|         123|         123|\n",
      "|2021-01-01 01:06:43|2021-01-01 01:15:39|         236|         170|\n",
      "|2021-01-01 02:24:07|2021-01-01 02:38:18|          74|          47|\n",
      "|2021-01-02 09:33:58|2021-01-02 09:53:41|         171|         130|\n",
      "|2021-01-02 12:01:48|2021-01-02 12:21:45|         169|         208|\n",
      "|2021-01-02 13:27:12|2021-01-02 13:42:50|         161|         114|\n",
      "|2021-01-02 15:39:14|2021-01-02 15:55:22|         126|         182|\n",
      "|2021-01-01 17:06:07|2021-01-01 17:07:57|          39|          39|\n",
      "|2021-01-02 14:58:44|2021-01-02 15:05:59|          85|          71|\n",
      "|2021-01-01 17:06:06|2021-01-01 17:24:14|         246|         170|\n",
      "|2021-01-01 12:04:03|2021-01-01 12:22:31|         213|         116|\n",
      "|2021-01-01 21:59:36|2021-01-01 22:25:56|          42|          65|\n",
      "|2021-01-01 09:33:05|2021-01-01 09:40:33|         234|         246|\n",
      "+-------------------+-------------------+------------+------------+\n",
      "only showing top 20 rows\n",
      "\n"
     ]
    }
   ],
   "source": [
    "df.select('pickup_datetime','dropoff_datetime','PULocationID','DOLocationID').filter(df.hvfhs_license_num == 'HV0003').show()"
   ]
  },
  {
   "cell_type": "code",
   "execution_count": 35,
   "id": "e9be220c",
   "metadata": {},
   "outputs": [],
   "source": [
    "from pyspark.sql import functions as F"
   ]
  },
  {
   "cell_type": "code",
   "execution_count": 36,
   "id": "e9b79fd0",
   "metadata": {},
   "outputs": [
    {
     "name": "stdout",
     "output_type": "stream",
     "text": [
      "+-----------+------------+------------+------------+\n",
      "|pickup_date|dropoff_date|PULocationID|DOLocationID|\n",
      "+-----------+------------+------------+------------+\n",
      "| 2021-01-01|  2021-01-01|         101|         101|\n",
      "| 2021-01-01|  2021-01-01|          66|          97|\n",
      "| 2021-01-01|  2021-01-01|         170|         100|\n",
      "| 2021-01-01|  2021-01-01|         225|         189|\n",
      "| 2021-01-02|  2021-01-02|          42|         244|\n",
      "| 2021-01-02|  2021-01-02|          94|          18|\n",
      "| 2021-01-02|  2021-01-02|         221|         206|\n",
      "| 2021-01-01|  2021-01-01|         215|         215|\n",
      "| 2021-01-02|  2021-01-02|          89|          89|\n",
      "| 2021-01-02|  2021-01-02|          22|          55|\n",
      "| 2021-01-02|  2021-01-02|         241|         220|\n",
      "| 2021-01-01|  2021-01-01|         123|         123|\n",
      "| 2021-01-02|  2021-01-02|         223|          24|\n",
      "| 2021-01-01|  2021-01-01|         236|         170|\n",
      "| 2021-01-01|  2021-01-01|          74|          47|\n",
      "| 2021-01-02|  2021-01-02|         171|         130|\n",
      "| 2021-01-02|  2021-01-02|         169|         208|\n",
      "| 2021-01-02|  2021-01-02|         161|         114|\n",
      "| 2021-01-02|  2021-01-02|         126|         182|\n",
      "| 2021-01-01|  2021-01-01|          39|          39|\n",
      "+-----------+------------+------------+------------+\n",
      "only showing top 20 rows\n",
      "\n"
     ]
    }
   ],
   "source": [
    "df \\\n",
    "    .withColumn('pickup_date', F.to_date(df.pickup_datetime)) \\\n",
    "    .withColumn('dropoff_date', F.to_date(df.dropoff_datetime)) \\\n",
    "    .select('pickup_date','dropoff_date','PULocationID','DOLocationID') \\\n",
    "    .show()"
   ]
  },
  {
   "cell_type": "code",
   "execution_count": 5,
   "id": "d2bd85bd",
   "metadata": {},
   "outputs": [
    {
     "name": "stdout",
     "output_type": "stream",
     "text": [
      " 1897494 fhv_tripdata_2019-10.csv\r\n"
     ]
    },
    {
     "data": {
      "text/plain": [
       "'3.5.1'"
      ]
     },
     "execution_count": 5,
     "metadata": {},
     "output_type": "execute_result"
    }
   ],
   "source": [
    "### Homework\n",
    "!wc -l fhv_tripdata_2019-10.csv\n",
    "spark.version"
   ]
  },
  {
   "cell_type": "code",
   "execution_count": 8,
   "id": "d9ec106b",
   "metadata": {},
   "outputs": [
    {
     "name": "stderr",
     "output_type": "stream",
     "text": [
      "                                                                                \r"
     ]
    }
   ],
   "source": [
    "df = spark.read.option(\"header\", \"true\").option(\"inferSchema\", \"true\").csv('fhv_tripdata_2019-10.csv')"
   ]
  },
  {
   "cell_type": "code",
   "execution_count": 9,
   "id": "9746deec",
   "metadata": {},
   "outputs": [
    {
     "data": {
      "text/plain": [
       "StructType([StructField('dispatching_base_num', StringType(), True), StructField('pickup_datetime', TimestampType(), True), StructField('dropOff_datetime', TimestampType(), True), StructField('PUlocationID', IntegerType(), True), StructField('DOlocationID', IntegerType(), True), StructField('SR_Flag', StringType(), True), StructField('Affiliated_base_number', StringType(), True)])"
      ]
     },
     "execution_count": 9,
     "metadata": {},
     "output_type": "execute_result"
    }
   ],
   "source": [
    "df.schema"
   ]
  },
  {
   "cell_type": "code",
   "execution_count": 10,
   "id": "a99d7dd9",
   "metadata": {},
   "outputs": [
    {
     "name": "stderr",
     "output_type": "stream",
     "text": [
      "                                                                                \r"
     ]
    }
   ],
   "source": [
    "df = df.repartition(6)\n",
    "df.write.parquet('fhv/2019/10')"
   ]
  },
  {
   "cell_type": "code",
   "execution_count": 13,
   "id": "a01801d7",
   "metadata": {},
   "outputs": [],
   "source": [
    "df = spark.read.parquet('fhv/2019/10/')"
   ]
  },
  {
   "cell_type": "code",
   "execution_count": 18,
   "id": "84e20b0d",
   "metadata": {},
   "outputs": [
    {
     "name": "stdout",
     "output_type": "stream",
     "text": [
      "+--------------------+-------------------+-------------------+------------+------------+-------+----------------------+\n",
      "|dispatching_base_num|    pickup_datetime|   dropOff_datetime|PUlocationID|DOlocationID|SR_Flag|Affiliated_base_number|\n",
      "+--------------------+-------------------+-------------------+------------+------------+-------+----------------------+\n",
      "|              B01239|2019-10-01 10:53:00|2019-10-01 11:08:27|         264|          20|   NULL|                B01239|\n",
      "|              B02735|2019-10-02 14:11:37|2019-10-02 14:36:15|         264|         259|   NULL|                B02969|\n",
      "|              B01339|2019-10-01 11:47:14|2019-10-01 12:19:20|         264|         239|   NULL|                B01339|\n",
      "|              B02546|2019-10-01 14:04:54|2019-10-01 14:05:55|         264|         159|   NULL|                B02546|\n",
      "|              B01087|2019-10-01 21:04:29|2019-10-01 21:31:54|         162|         265|   NULL|                B01087|\n",
      "|              B02103|2019-10-02 16:14:52|2019-10-02 16:39:51|         264|          78|   NULL|                B00911|\n",
      "|              B03016|2019-10-02 12:03:57|2019-10-02 12:31:32|         264|         174|   NULL|                B02875|\n",
      "|              B00254|2019-10-01 12:08:35|2019-10-01 14:18:41|          13|         261|   NULL|                B02356|\n",
      "|              B01445|2019-10-01 05:00:00|2019-10-01 05:18:00|         227|         132|   NULL|                B01445|\n",
      "|              B01730|2019-10-02 02:32:40|2019-10-02 02:40:00|         264|         230|   NULL|                B02096|\n",
      "|              B02641|2019-10-02 09:46:32|2019-10-02 10:24:58|         264|         264|   NULL|                B02641|\n",
      "|              B02437|2019-10-01 06:48:14|2019-10-01 06:56:07|         264|         247|   NULL|                B02437|\n",
      "|              B02826|2019-10-02 09:00:29|2019-10-02 09:35:14|         264|          87|   NULL|                B02826|\n",
      "|              B01730|2019-10-01 04:18:01|2019-10-01 04:22:40|         264|         209|   NULL|                B02096|\n",
      "|              B00160|2019-10-01 22:31:00|2019-10-01 22:42:00|         264|         264|   NULL|                B00160|\n",
      "|              B00887|2019-10-01 22:15:11|2019-10-01 22:56:48|         264|         265|   NULL|                B00887|\n",
      "|              B01236|2019-10-02 16:00:00|2019-10-02 23:30:00|         264|         264|   NULL|                B01236|\n",
      "|              B02163|2019-10-01 11:30:11|2019-10-01 12:21:16|         264|          89|   NULL|                B02163|\n",
      "|              B00256|2019-10-02 19:54:39|2019-10-02 20:31:29|         264|         264|   NULL|                B00256|\n",
      "|              B03160|2019-10-01 11:35:00|2019-10-01 12:08:00|         140|          49|   NULL|                B02883|\n",
      "+--------------------+-------------------+-------------------+------------+------------+-------+----------------------+\n",
      "only showing top 20 rows\n",
      "\n"
     ]
    }
   ],
   "source": [
    "df.show()"
   ]
  },
  {
   "cell_type": "code",
   "execution_count": 28,
   "id": "d328f5e3",
   "metadata": {},
   "outputs": [],
   "source": [
    "df.createOrReplaceTempView('2019_10_fhv_trips')"
   ]
  },
  {
   "cell_type": "code",
   "execution_count": 48,
   "id": "6544580d",
   "metadata": {},
   "outputs": [
    {
     "name": "stdout",
     "output_type": "stream",
     "text": [
      "+--------------------+-------------------+-------------------+------------+------------+-------+----------------------+-------------------+\n",
      "|dispatching_base_num|    pickup_datetime|   dropOff_datetime|PUlocationID|DOlocationID|SR_Flag|Affiliated_base_number|trip_duration_hours|\n",
      "+--------------------+-------------------+-------------------+------------+------------+-------+----------------------+-------------------+\n",
      "|              B02832|2019-10-28 09:00:00|2091-10-28 09:30:00|         264|         264|   NULL|                B02832|           631152.5|\n",
      "|              B02832|2019-10-11 18:00:00|2091-10-11 18:30:00|         264|         264|   NULL|                B02832|           631152.5|\n",
      "|              B02416|2019-10-31 23:46:33|2029-11-01 00:13:00|        NULL|        NULL|   NULL|                B02416|  87672.44083333333|\n",
      "|     B00746         |2019-10-01 21:43:42|2027-10-01 21:45:23|         159|         264|   NULL|       B00746         |  70128.02805555555|\n",
      "|              B02921|2019-10-17 14:00:00|2020-10-18 00:00:00|        NULL|        NULL|   NULL|                B03037|             8794.0|\n",
      "|              B03110|2019-10-26 21:26:00|2020-10-26 21:36:00|         264|         264|   NULL|                B03110|  8784.166666666666|\n",
      "|              B03080|2019-10-30 12:30:04|2019-12-30 13:02:08|         264|          50|   NULL|                B02883| 1464.5344444444445|\n",
      "|     B03084         |2019-10-25 07:04:57|2019-12-08 07:54:33|         168|         235|   NULL|                B02765| 1056.8266666666666|\n",
      "|     B03084         |2019-10-25 07:04:57|2019-12-08 07:21:11|         168|         235|   NULL|                B02765| 1056.2705555555556|\n",
      "|              B01452|2019-10-01 13:47:17|2019-11-03 15:20:28|          44|         214|   NULL|                B01452|  793.5530555555556|\n",
      "|              B01452|2019-10-01 07:21:12|2019-11-03 08:44:21|           5|           6|   NULL|                B01452|  793.3858333333334|\n",
      "|              B01452|2019-10-01 13:41:00|2019-11-03 14:58:51|         206|         172|   NULL|                B01452|           793.2975|\n",
      "|              B01452|2019-10-01 18:43:20|2019-11-03 19:43:13|          23|           5|   NULL|                B01452|  792.9980555555555|\n",
      "|              B01452|2019-10-01 18:43:46|2019-11-03 19:43:04|         251|          44|   NULL|                B01452|  792.9883333333333|\n",
      "|              B01452|2019-10-01 07:07:09|2019-11-03 07:58:46|         204|          23|   NULL|                B01452|  792.8602777777778|\n",
      "|              B01452|2019-10-01 14:49:28|2019-11-03 15:38:07|         214|         156|   NULL|                B01452|  792.8108333333333|\n",
      "|              B01452|2019-10-01 05:36:30|2019-11-03 06:23:36|         214|          84|   NULL|                B01452|            792.785|\n",
      "|              B00972|2019-10-01 15:02:55|2019-11-03 15:49:05|         204|           1|   NULL|                B00972|  792.7694444444444|\n",
      "|              B00972|2019-10-01 06:08:01|2019-11-03 06:53:15|         156|         204|   NULL|                B00972|  792.7538888888889|\n",
      "|              B01452|2019-10-01 06:41:17|2019-11-03 07:26:04|          44|          23|   NULL|                B01452|  792.7463888888889|\n",
      "+--------------------+-------------------+-------------------+------------+------------+-------+----------------------+-------------------+\n",
      "only showing top 20 rows\n",
      "\n"
     ]
    }
   ],
   "source": [
    "spark.sql(\"\"\"\n",
    "    SELECT \n",
    "        *,\n",
    "        (UNIX_TIMESTAMP(dropOff_datetime) - UNIX_TIMESTAMP(pickup_datetime)) / 3600 AS trip_duration_hours\n",
    "    FROM `2019_10_fhv_trips`\n",
    "    ORDER BY trip_duration_hours DESC\n",
    "    LIMIT 25\n",
    "\"\"\").show()\n"
   ]
  },
  {
   "cell_type": "code",
   "execution_count": 50,
   "id": "d83b41e4",
   "metadata": {},
   "outputs": [
    {
     "name": "stdout",
     "output_type": "stream",
     "text": [
      "+------------+------------+\n",
      "|PUlocationID|pickup_count|\n",
      "+------------+------------+\n",
      "|           2|           1|\n",
      "|         105|           2|\n",
      "|         111|           5|\n",
      "|          30|           8|\n",
      "|         120|          14|\n",
      "|          12|          15|\n",
      "|         207|          23|\n",
      "|          27|          25|\n",
      "|         154|          26|\n",
      "|           8|          29|\n",
      "+------------+------------+\n",
      "\n"
     ]
    }
   ],
   "source": [
    "spark.sql(\"\"\"\n",
    "    SELECT \n",
    "        PUlocationID,\n",
    "        COUNT(*) as pickup_count\n",
    "    FROM `2019_10_fhv_trips`\n",
    "    GROUP BY PUlocationID\n",
    "    ORDER BY pickup_count\n",
    "    LIMIT 10\n",
    "\"\"\").show()\n"
   ]
  }
 ],
 "metadata": {
  "kernelspec": {
   "display_name": "Python 3 (ipykernel)",
   "language": "python",
   "name": "python3"
  },
  "language_info": {
   "codemirror_mode": {
    "name": "ipython",
    "version": 3
   },
   "file_extension": ".py",
   "mimetype": "text/x-python",
   "name": "python",
   "nbconvert_exporter": "python",
   "pygments_lexer": "ipython3",
   "version": "3.11.5"
  }
 },
 "nbformat": 4,
 "nbformat_minor": 5
}
